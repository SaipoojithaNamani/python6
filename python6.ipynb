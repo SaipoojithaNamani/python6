{
  "nbformat": 4,
  "nbformat_minor": 0,
  "metadata": {
    "colab": {
      "provenance": [],
      "authorship_tag": "ABX9TyO/cFmvyg6RT4MhzHaSdfN0",
      "include_colab_link": true
    },
    "kernelspec": {
      "name": "python3",
      "display_name": "Python 3"
    },
    "language_info": {
      "name": "python"
    }
  },
  "cells": [
    {
      "cell_type": "markdown",
      "metadata": {
        "id": "view-in-github",
        "colab_type": "text"
      },
      "source": [
        "<a href=\"https://colab.research.google.com/github/SaipoojithaNamani/python6/blob/main/python6.ipynb\" target=\"_parent\"><img src=\"https://colab.research.google.com/assets/colab-badge.svg\" alt=\"Open In Colab\"/></a>"
      ]
    },
    {
      "cell_type": "code",
      "execution_count": 8,
      "metadata": {
        "colab": {
          "base_uri": "https://localhost:8080/"
        },
        "id": "Rdhxyo5AUxJ3",
        "outputId": "570cb65b-068a-4270-cc8a-c8af51e95736"
      },
      "outputs": [
        {
          "output_type": "stream",
          "name": "stdout",
          "text": [
            "data\n",
            "data\n",
            "data\n",
            "data\n",
            "data\n"
          ]
        }
      ],
      "source": [
        "#Loops\n",
        "print('data')\n",
        "print('data')\n",
        "print('data')\n",
        "print('data')\n",
        "print('data')"
      ]
    },
    {
      "cell_type": "code",
      "source": [
        "x=5\n",
        "while x<10:\n",
        "  print('data',x)\n",
        "  x+=1"
      ],
      "metadata": {
        "colab": {
          "base_uri": "https://localhost:8080/"
        },
        "id": "eC68iu7cW04k",
        "outputId": "fdec5fdb-245f-4c14-946d-e88348621963"
      },
      "execution_count": 16,
      "outputs": [
        {
          "output_type": "stream",
          "name": "stdout",
          "text": [
            "data 5\n",
            "data 6\n",
            "data 7\n",
            "data 8\n",
            "data 9\n"
          ]
        }
      ]
    },
    {
      "cell_type": "code",
      "source": [
        "y=[2,4,5,6,7,8]\n",
        "y\n",
        "y*5\n",
        "print(y*5)\n",
        "\n",
        "\n"
      ],
      "metadata": {
        "colab": {
          "base_uri": "https://localhost:8080/"
        },
        "id": "aIT-JNOUXGTQ",
        "outputId": "7897fd55-80be-4226-a8ac-cd21efb4733c"
      },
      "execution_count": 40,
      "outputs": [
        {
          "output_type": "stream",
          "name": "stdout",
          "text": [
            "[2, 4, 5, 6, 7, 8, 2, 4, 5, 6, 7, 8, 2, 4, 5, 6, 7, 8, 2, 4, 5, 6, 7, 8, 2, 4, 5, 6, 7, 8]\n"
          ]
        }
      ]
    },
    {
      "cell_type": "code",
      "source": [
        "y*2"
      ],
      "metadata": {
        "colab": {
          "base_uri": "https://localhost:8080/"
        },
        "id": "ObedxijbZAw3",
        "outputId": "c688f38d-2e78-4c6c-feb9-1c6aa26a01bf"
      },
      "execution_count": 20,
      "outputs": [
        {
          "output_type": "execute_result",
          "data": {
            "text/plain": [
              "[2, 4, 5, 6, 7, 8, 2, 4, 5, 6, 7, 8]"
            ]
          },
          "metadata": {},
          "execution_count": 20
        }
      ]
    },
    {
      "cell_type": "code",
      "source": [
        "y*5"
      ],
      "metadata": {
        "colab": {
          "base_uri": "https://localhost:8080/"
        },
        "id": "heXRrLuDZQI2",
        "outputId": "0deb9bfc-4ba7-4959-97ca-597a36727573"
      },
      "execution_count": 22,
      "outputs": [
        {
          "output_type": "execute_result",
          "data": {
            "text/plain": [
              "[2,\n",
              " 4,\n",
              " 5,\n",
              " 6,\n",
              " 7,\n",
              " 8,\n",
              " 2,\n",
              " 4,\n",
              " 5,\n",
              " 6,\n",
              " 7,\n",
              " 8,\n",
              " 2,\n",
              " 4,\n",
              " 5,\n",
              " 6,\n",
              " 7,\n",
              " 8,\n",
              " 2,\n",
              " 4,\n",
              " 5,\n",
              " 6,\n",
              " 7,\n",
              " 8,\n",
              " 2,\n",
              " 4,\n",
              " 5,\n",
              " 6,\n",
              " 7,\n",
              " 8]"
            ]
          },
          "metadata": {},
          "execution_count": 22
        }
      ]
    },
    {
      "cell_type": "code",
      "source": [
        "print(y)"
      ],
      "metadata": {
        "colab": {
          "base_uri": "https://localhost:8080/"
        },
        "id": "MNp0sruUZ-Jq",
        "outputId": "65e15158-4b78-4398-e8a9-a4178fa83ef7"
      },
      "execution_count": 23,
      "outputs": [
        {
          "output_type": "stream",
          "name": "stdout",
          "text": [
            "[2, 4, 5, 6, 7, 8]\n"
          ]
        }
      ]
    },
    {
      "cell_type": "code",
      "source": [
        "for i in y:\n",
        "  print(y*85)"
      ],
      "metadata": {
        "colab": {
          "base_uri": "https://localhost:8080/"
        },
        "id": "hkc3sKoaaGV2",
        "outputId": "a45d57c2-788d-43d4-dc42-ec74ac04c38e"
      },
      "execution_count": 25,
      "outputs": [
        {
          "output_type": "stream",
          "name": "stdout",
          "text": [
            "[2, 4, 5, 6, 7, 8, 2, 4, 5, 6, 7, 8, 2, 4, 5, 6, 7, 8, 2, 4, 5, 6, 7, 8, 2, 4, 5, 6, 7, 8, 2, 4, 5, 6, 7, 8, 2, 4, 5, 6, 7, 8, 2, 4, 5, 6, 7, 8, 2, 4, 5, 6, 7, 8, 2, 4, 5, 6, 7, 8, 2, 4, 5, 6, 7, 8, 2, 4, 5, 6, 7, 8, 2, 4, 5, 6, 7, 8, 2, 4, 5, 6, 7, 8, 2, 4, 5, 6, 7, 8, 2, 4, 5, 6, 7, 8, 2, 4, 5, 6, 7, 8, 2, 4, 5, 6, 7, 8, 2, 4, 5, 6, 7, 8, 2, 4, 5, 6, 7, 8, 2, 4, 5, 6, 7, 8, 2, 4, 5, 6, 7, 8, 2, 4, 5, 6, 7, 8, 2, 4, 5, 6, 7, 8, 2, 4, 5, 6, 7, 8, 2, 4, 5, 6, 7, 8, 2, 4, 5, 6, 7, 8, 2, 4, 5, 6, 7, 8, 2, 4, 5, 6, 7, 8, 2, 4, 5, 6, 7, 8, 2, 4, 5, 6, 7, 8, 2, 4, 5, 6, 7, 8, 2, 4, 5, 6, 7, 8, 2, 4, 5, 6, 7, 8, 2, 4, 5, 6, 7, 8, 2, 4, 5, 6, 7, 8, 2, 4, 5, 6, 7, 8, 2, 4, 5, 6, 7, 8, 2, 4, 5, 6, 7, 8, 2, 4, 5, 6, 7, 8, 2, 4, 5, 6, 7, 8, 2, 4, 5, 6, 7, 8, 2, 4, 5, 6, 7, 8, 2, 4, 5, 6, 7, 8, 2, 4, 5, 6, 7, 8, 2, 4, 5, 6, 7, 8, 2, 4, 5, 6, 7, 8, 2, 4, 5, 6, 7, 8, 2, 4, 5, 6, 7, 8, 2, 4, 5, 6, 7, 8, 2, 4, 5, 6, 7, 8, 2, 4, 5, 6, 7, 8, 2, 4, 5, 6, 7, 8, 2, 4, 5, 6, 7, 8, 2, 4, 5, 6, 7, 8, 2, 4, 5, 6, 7, 8, 2, 4, 5, 6, 7, 8, 2, 4, 5, 6, 7, 8, 2, 4, 5, 6, 7, 8, 2, 4, 5, 6, 7, 8, 2, 4, 5, 6, 7, 8, 2, 4, 5, 6, 7, 8, 2, 4, 5, 6, 7, 8, 2, 4, 5, 6, 7, 8, 2, 4, 5, 6, 7, 8, 2, 4, 5, 6, 7, 8, 2, 4, 5, 6, 7, 8, 2, 4, 5, 6, 7, 8, 2, 4, 5, 6, 7, 8, 2, 4, 5, 6, 7, 8, 2, 4, 5, 6, 7, 8, 2, 4, 5, 6, 7, 8, 2, 4, 5, 6, 7, 8, 2, 4, 5, 6, 7, 8, 2, 4, 5, 6, 7, 8, 2, 4, 5, 6, 7, 8, 2, 4, 5, 6, 7, 8, 2, 4, 5, 6, 7, 8, 2, 4, 5, 6, 7, 8, 2, 4, 5, 6, 7, 8, 2, 4, 5, 6, 7, 8, 2, 4, 5, 6, 7, 8, 2, 4, 5, 6, 7, 8, 2, 4, 5, 6, 7, 8, 2, 4, 5, 6, 7, 8]\n",
            "[2, 4, 5, 6, 7, 8, 2, 4, 5, 6, 7, 8, 2, 4, 5, 6, 7, 8, 2, 4, 5, 6, 7, 8, 2, 4, 5, 6, 7, 8, 2, 4, 5, 6, 7, 8, 2, 4, 5, 6, 7, 8, 2, 4, 5, 6, 7, 8, 2, 4, 5, 6, 7, 8, 2, 4, 5, 6, 7, 8, 2, 4, 5, 6, 7, 8, 2, 4, 5, 6, 7, 8, 2, 4, 5, 6, 7, 8, 2, 4, 5, 6, 7, 8, 2, 4, 5, 6, 7, 8, 2, 4, 5, 6, 7, 8, 2, 4, 5, 6, 7, 8, 2, 4, 5, 6, 7, 8, 2, 4, 5, 6, 7, 8, 2, 4, 5, 6, 7, 8, 2, 4, 5, 6, 7, 8, 2, 4, 5, 6, 7, 8, 2, 4, 5, 6, 7, 8, 2, 4, 5, 6, 7, 8, 2, 4, 5, 6, 7, 8, 2, 4, 5, 6, 7, 8, 2, 4, 5, 6, 7, 8, 2, 4, 5, 6, 7, 8, 2, 4, 5, 6, 7, 8, 2, 4, 5, 6, 7, 8, 2, 4, 5, 6, 7, 8, 2, 4, 5, 6, 7, 8, 2, 4, 5, 6, 7, 8, 2, 4, 5, 6, 7, 8, 2, 4, 5, 6, 7, 8, 2, 4, 5, 6, 7, 8, 2, 4, 5, 6, 7, 8, 2, 4, 5, 6, 7, 8, 2, 4, 5, 6, 7, 8, 2, 4, 5, 6, 7, 8, 2, 4, 5, 6, 7, 8, 2, 4, 5, 6, 7, 8, 2, 4, 5, 6, 7, 8, 2, 4, 5, 6, 7, 8, 2, 4, 5, 6, 7, 8, 2, 4, 5, 6, 7, 8, 2, 4, 5, 6, 7, 8, 2, 4, 5, 6, 7, 8, 2, 4, 5, 6, 7, 8, 2, 4, 5, 6, 7, 8, 2, 4, 5, 6, 7, 8, 2, 4, 5, 6, 7, 8, 2, 4, 5, 6, 7, 8, 2, 4, 5, 6, 7, 8, 2, 4, 5, 6, 7, 8, 2, 4, 5, 6, 7, 8, 2, 4, 5, 6, 7, 8, 2, 4, 5, 6, 7, 8, 2, 4, 5, 6, 7, 8, 2, 4, 5, 6, 7, 8, 2, 4, 5, 6, 7, 8, 2, 4, 5, 6, 7, 8, 2, 4, 5, 6, 7, 8, 2, 4, 5, 6, 7, 8, 2, 4, 5, 6, 7, 8, 2, 4, 5, 6, 7, 8, 2, 4, 5, 6, 7, 8, 2, 4, 5, 6, 7, 8, 2, 4, 5, 6, 7, 8, 2, 4, 5, 6, 7, 8, 2, 4, 5, 6, 7, 8, 2, 4, 5, 6, 7, 8, 2, 4, 5, 6, 7, 8, 2, 4, 5, 6, 7, 8, 2, 4, 5, 6, 7, 8, 2, 4, 5, 6, 7, 8, 2, 4, 5, 6, 7, 8, 2, 4, 5, 6, 7, 8, 2, 4, 5, 6, 7, 8, 2, 4, 5, 6, 7, 8, 2, 4, 5, 6, 7, 8, 2, 4, 5, 6, 7, 8, 2, 4, 5, 6, 7, 8, 2, 4, 5, 6, 7, 8, 2, 4, 5, 6, 7, 8]\n",
            "[2, 4, 5, 6, 7, 8, 2, 4, 5, 6, 7, 8, 2, 4, 5, 6, 7, 8, 2, 4, 5, 6, 7, 8, 2, 4, 5, 6, 7, 8, 2, 4, 5, 6, 7, 8, 2, 4, 5, 6, 7, 8, 2, 4, 5, 6, 7, 8, 2, 4, 5, 6, 7, 8, 2, 4, 5, 6, 7, 8, 2, 4, 5, 6, 7, 8, 2, 4, 5, 6, 7, 8, 2, 4, 5, 6, 7, 8, 2, 4, 5, 6, 7, 8, 2, 4, 5, 6, 7, 8, 2, 4, 5, 6, 7, 8, 2, 4, 5, 6, 7, 8, 2, 4, 5, 6, 7, 8, 2, 4, 5, 6, 7, 8, 2, 4, 5, 6, 7, 8, 2, 4, 5, 6, 7, 8, 2, 4, 5, 6, 7, 8, 2, 4, 5, 6, 7, 8, 2, 4, 5, 6, 7, 8, 2, 4, 5, 6, 7, 8, 2, 4, 5, 6, 7, 8, 2, 4, 5, 6, 7, 8, 2, 4, 5, 6, 7, 8, 2, 4, 5, 6, 7, 8, 2, 4, 5, 6, 7, 8, 2, 4, 5, 6, 7, 8, 2, 4, 5, 6, 7, 8, 2, 4, 5, 6, 7, 8, 2, 4, 5, 6, 7, 8, 2, 4, 5, 6, 7, 8, 2, 4, 5, 6, 7, 8, 2, 4, 5, 6, 7, 8, 2, 4, 5, 6, 7, 8, 2, 4, 5, 6, 7, 8, 2, 4, 5, 6, 7, 8, 2, 4, 5, 6, 7, 8, 2, 4, 5, 6, 7, 8, 2, 4, 5, 6, 7, 8, 2, 4, 5, 6, 7, 8, 2, 4, 5, 6, 7, 8, 2, 4, 5, 6, 7, 8, 2, 4, 5, 6, 7, 8, 2, 4, 5, 6, 7, 8, 2, 4, 5, 6, 7, 8, 2, 4, 5, 6, 7, 8, 2, 4, 5, 6, 7, 8, 2, 4, 5, 6, 7, 8, 2, 4, 5, 6, 7, 8, 2, 4, 5, 6, 7, 8, 2, 4, 5, 6, 7, 8, 2, 4, 5, 6, 7, 8, 2, 4, 5, 6, 7, 8, 2, 4, 5, 6, 7, 8, 2, 4, 5, 6, 7, 8, 2, 4, 5, 6, 7, 8, 2, 4, 5, 6, 7, 8, 2, 4, 5, 6, 7, 8, 2, 4, 5, 6, 7, 8, 2, 4, 5, 6, 7, 8, 2, 4, 5, 6, 7, 8, 2, 4, 5, 6, 7, 8, 2, 4, 5, 6, 7, 8, 2, 4, 5, 6, 7, 8, 2, 4, 5, 6, 7, 8, 2, 4, 5, 6, 7, 8, 2, 4, 5, 6, 7, 8, 2, 4, 5, 6, 7, 8, 2, 4, 5, 6, 7, 8, 2, 4, 5, 6, 7, 8, 2, 4, 5, 6, 7, 8, 2, 4, 5, 6, 7, 8, 2, 4, 5, 6, 7, 8, 2, 4, 5, 6, 7, 8, 2, 4, 5, 6, 7, 8, 2, 4, 5, 6, 7, 8, 2, 4, 5, 6, 7, 8, 2, 4, 5, 6, 7, 8, 2, 4, 5, 6, 7, 8, 2, 4, 5, 6, 7, 8, 2, 4, 5, 6, 7, 8]\n",
            "[2, 4, 5, 6, 7, 8, 2, 4, 5, 6, 7, 8, 2, 4, 5, 6, 7, 8, 2, 4, 5, 6, 7, 8, 2, 4, 5, 6, 7, 8, 2, 4, 5, 6, 7, 8, 2, 4, 5, 6, 7, 8, 2, 4, 5, 6, 7, 8, 2, 4, 5, 6, 7, 8, 2, 4, 5, 6, 7, 8, 2, 4, 5, 6, 7, 8, 2, 4, 5, 6, 7, 8, 2, 4, 5, 6, 7, 8, 2, 4, 5, 6, 7, 8, 2, 4, 5, 6, 7, 8, 2, 4, 5, 6, 7, 8, 2, 4, 5, 6, 7, 8, 2, 4, 5, 6, 7, 8, 2, 4, 5, 6, 7, 8, 2, 4, 5, 6, 7, 8, 2, 4, 5, 6, 7, 8, 2, 4, 5, 6, 7, 8, 2, 4, 5, 6, 7, 8, 2, 4, 5, 6, 7, 8, 2, 4, 5, 6, 7, 8, 2, 4, 5, 6, 7, 8, 2, 4, 5, 6, 7, 8, 2, 4, 5, 6, 7, 8, 2, 4, 5, 6, 7, 8, 2, 4, 5, 6, 7, 8, 2, 4, 5, 6, 7, 8, 2, 4, 5, 6, 7, 8, 2, 4, 5, 6, 7, 8, 2, 4, 5, 6, 7, 8, 2, 4, 5, 6, 7, 8, 2, 4, 5, 6, 7, 8, 2, 4, 5, 6, 7, 8, 2, 4, 5, 6, 7, 8, 2, 4, 5, 6, 7, 8, 2, 4, 5, 6, 7, 8, 2, 4, 5, 6, 7, 8, 2, 4, 5, 6, 7, 8, 2, 4, 5, 6, 7, 8, 2, 4, 5, 6, 7, 8, 2, 4, 5, 6, 7, 8, 2, 4, 5, 6, 7, 8, 2, 4, 5, 6, 7, 8, 2, 4, 5, 6, 7, 8, 2, 4, 5, 6, 7, 8, 2, 4, 5, 6, 7, 8, 2, 4, 5, 6, 7, 8, 2, 4, 5, 6, 7, 8, 2, 4, 5, 6, 7, 8, 2, 4, 5, 6, 7, 8, 2, 4, 5, 6, 7, 8, 2, 4, 5, 6, 7, 8, 2, 4, 5, 6, 7, 8, 2, 4, 5, 6, 7, 8, 2, 4, 5, 6, 7, 8, 2, 4, 5, 6, 7, 8, 2, 4, 5, 6, 7, 8, 2, 4, 5, 6, 7, 8, 2, 4, 5, 6, 7, 8, 2, 4, 5, 6, 7, 8, 2, 4, 5, 6, 7, 8, 2, 4, 5, 6, 7, 8, 2, 4, 5, 6, 7, 8, 2, 4, 5, 6, 7, 8, 2, 4, 5, 6, 7, 8, 2, 4, 5, 6, 7, 8, 2, 4, 5, 6, 7, 8, 2, 4, 5, 6, 7, 8, 2, 4, 5, 6, 7, 8, 2, 4, 5, 6, 7, 8, 2, 4, 5, 6, 7, 8, 2, 4, 5, 6, 7, 8, 2, 4, 5, 6, 7, 8, 2, 4, 5, 6, 7, 8, 2, 4, 5, 6, 7, 8, 2, 4, 5, 6, 7, 8, 2, 4, 5, 6, 7, 8, 2, 4, 5, 6, 7, 8, 2, 4, 5, 6, 7, 8, 2, 4, 5, 6, 7, 8, 2, 4, 5, 6, 7, 8]\n",
            "[2, 4, 5, 6, 7, 8, 2, 4, 5, 6, 7, 8, 2, 4, 5, 6, 7, 8, 2, 4, 5, 6, 7, 8, 2, 4, 5, 6, 7, 8, 2, 4, 5, 6, 7, 8, 2, 4, 5, 6, 7, 8, 2, 4, 5, 6, 7, 8, 2, 4, 5, 6, 7, 8, 2, 4, 5, 6, 7, 8, 2, 4, 5, 6, 7, 8, 2, 4, 5, 6, 7, 8, 2, 4, 5, 6, 7, 8, 2, 4, 5, 6, 7, 8, 2, 4, 5, 6, 7, 8, 2, 4, 5, 6, 7, 8, 2, 4, 5, 6, 7, 8, 2, 4, 5, 6, 7, 8, 2, 4, 5, 6, 7, 8, 2, 4, 5, 6, 7, 8, 2, 4, 5, 6, 7, 8, 2, 4, 5, 6, 7, 8, 2, 4, 5, 6, 7, 8, 2, 4, 5, 6, 7, 8, 2, 4, 5, 6, 7, 8, 2, 4, 5, 6, 7, 8, 2, 4, 5, 6, 7, 8, 2, 4, 5, 6, 7, 8, 2, 4, 5, 6, 7, 8, 2, 4, 5, 6, 7, 8, 2, 4, 5, 6, 7, 8, 2, 4, 5, 6, 7, 8, 2, 4, 5, 6, 7, 8, 2, 4, 5, 6, 7, 8, 2, 4, 5, 6, 7, 8, 2, 4, 5, 6, 7, 8, 2, 4, 5, 6, 7, 8, 2, 4, 5, 6, 7, 8, 2, 4, 5, 6, 7, 8, 2, 4, 5, 6, 7, 8, 2, 4, 5, 6, 7, 8, 2, 4, 5, 6, 7, 8, 2, 4, 5, 6, 7, 8, 2, 4, 5, 6, 7, 8, 2, 4, 5, 6, 7, 8, 2, 4, 5, 6, 7, 8, 2, 4, 5, 6, 7, 8, 2, 4, 5, 6, 7, 8, 2, 4, 5, 6, 7, 8, 2, 4, 5, 6, 7, 8, 2, 4, 5, 6, 7, 8, 2, 4, 5, 6, 7, 8, 2, 4, 5, 6, 7, 8, 2, 4, 5, 6, 7, 8, 2, 4, 5, 6, 7, 8, 2, 4, 5, 6, 7, 8, 2, 4, 5, 6, 7, 8, 2, 4, 5, 6, 7, 8, 2, 4, 5, 6, 7, 8, 2, 4, 5, 6, 7, 8, 2, 4, 5, 6, 7, 8, 2, 4, 5, 6, 7, 8, 2, 4, 5, 6, 7, 8, 2, 4, 5, 6, 7, 8, 2, 4, 5, 6, 7, 8, 2, 4, 5, 6, 7, 8, 2, 4, 5, 6, 7, 8, 2, 4, 5, 6, 7, 8, 2, 4, 5, 6, 7, 8, 2, 4, 5, 6, 7, 8, 2, 4, 5, 6, 7, 8, 2, 4, 5, 6, 7, 8, 2, 4, 5, 6, 7, 8, 2, 4, 5, 6, 7, 8, 2, 4, 5, 6, 7, 8, 2, 4, 5, 6, 7, 8, 2, 4, 5, 6, 7, 8, 2, 4, 5, 6, 7, 8, 2, 4, 5, 6, 7, 8, 2, 4, 5, 6, 7, 8, 2, 4, 5, 6, 7, 8, 2, 4, 5, 6, 7, 8, 2, 4, 5, 6, 7, 8, 2, 4, 5, 6, 7, 8, 2, 4, 5, 6, 7, 8]\n",
            "[2, 4, 5, 6, 7, 8, 2, 4, 5, 6, 7, 8, 2, 4, 5, 6, 7, 8, 2, 4, 5, 6, 7, 8, 2, 4, 5, 6, 7, 8, 2, 4, 5, 6, 7, 8, 2, 4, 5, 6, 7, 8, 2, 4, 5, 6, 7, 8, 2, 4, 5, 6, 7, 8, 2, 4, 5, 6, 7, 8, 2, 4, 5, 6, 7, 8, 2, 4, 5, 6, 7, 8, 2, 4, 5, 6, 7, 8, 2, 4, 5, 6, 7, 8, 2, 4, 5, 6, 7, 8, 2, 4, 5, 6, 7, 8, 2, 4, 5, 6, 7, 8, 2, 4, 5, 6, 7, 8, 2, 4, 5, 6, 7, 8, 2, 4, 5, 6, 7, 8, 2, 4, 5, 6, 7, 8, 2, 4, 5, 6, 7, 8, 2, 4, 5, 6, 7, 8, 2, 4, 5, 6, 7, 8, 2, 4, 5, 6, 7, 8, 2, 4, 5, 6, 7, 8, 2, 4, 5, 6, 7, 8, 2, 4, 5, 6, 7, 8, 2, 4, 5, 6, 7, 8, 2, 4, 5, 6, 7, 8, 2, 4, 5, 6, 7, 8, 2, 4, 5, 6, 7, 8, 2, 4, 5, 6, 7, 8, 2, 4, 5, 6, 7, 8, 2, 4, 5, 6, 7, 8, 2, 4, 5, 6, 7, 8, 2, 4, 5, 6, 7, 8, 2, 4, 5, 6, 7, 8, 2, 4, 5, 6, 7, 8, 2, 4, 5, 6, 7, 8, 2, 4, 5, 6, 7, 8, 2, 4, 5, 6, 7, 8, 2, 4, 5, 6, 7, 8, 2, 4, 5, 6, 7, 8, 2, 4, 5, 6, 7, 8, 2, 4, 5, 6, 7, 8, 2, 4, 5, 6, 7, 8, 2, 4, 5, 6, 7, 8, 2, 4, 5, 6, 7, 8, 2, 4, 5, 6, 7, 8, 2, 4, 5, 6, 7, 8, 2, 4, 5, 6, 7, 8, 2, 4, 5, 6, 7, 8, 2, 4, 5, 6, 7, 8, 2, 4, 5, 6, 7, 8, 2, 4, 5, 6, 7, 8, 2, 4, 5, 6, 7, 8, 2, 4, 5, 6, 7, 8, 2, 4, 5, 6, 7, 8, 2, 4, 5, 6, 7, 8, 2, 4, 5, 6, 7, 8, 2, 4, 5, 6, 7, 8, 2, 4, 5, 6, 7, 8, 2, 4, 5, 6, 7, 8, 2, 4, 5, 6, 7, 8, 2, 4, 5, 6, 7, 8, 2, 4, 5, 6, 7, 8, 2, 4, 5, 6, 7, 8, 2, 4, 5, 6, 7, 8, 2, 4, 5, 6, 7, 8, 2, 4, 5, 6, 7, 8, 2, 4, 5, 6, 7, 8, 2, 4, 5, 6, 7, 8, 2, 4, 5, 6, 7, 8, 2, 4, 5, 6, 7, 8, 2, 4, 5, 6, 7, 8, 2, 4, 5, 6, 7, 8, 2, 4, 5, 6, 7, 8, 2, 4, 5, 6, 7, 8, 2, 4, 5, 6, 7, 8, 2, 4, 5, 6, 7, 8, 2, 4, 5, 6, 7, 8, 2, 4, 5, 6, 7, 8, 2, 4, 5, 6, 7, 8, 2, 4, 5, 6, 7, 8]\n"
          ]
        }
      ]
    },
    {
      "cell_type": "code",
      "source": [
        "for i in y:\n",
        "  print(y)"
      ],
      "metadata": {
        "colab": {
          "base_uri": "https://localhost:8080/"
        },
        "id": "Wrgb4eS7aSV4",
        "outputId": "e65a51a9-8768-465b-9451-bfa3a71ce69e"
      },
      "execution_count": 26,
      "outputs": [
        {
          "output_type": "stream",
          "name": "stdout",
          "text": [
            "[2, 4, 5, 6, 7, 8]\n",
            "[2, 4, 5, 6, 7, 8]\n",
            "[2, 4, 5, 6, 7, 8]\n",
            "[2, 4, 5, 6, 7, 8]\n",
            "[2, 4, 5, 6, 7, 8]\n",
            "[2, 4, 5, 6, 7, 8]\n"
          ]
        }
      ]
    },
    {
      "cell_type": "code",
      "source": [
        "#remember\n",
        "for i in y:\n",
        "  print(i*5+10)\n",
        ""
      ],
      "metadata": {
        "colab": {
          "base_uri": "https://localhost:8080/"
        },
        "id": "dmFp1J-Qalgq",
        "outputId": "20fa4a89-d39e-4ba2-ccb1-2ff96f5dd500"
      },
      "execution_count": 47,
      "outputs": [
        {
          "output_type": "stream",
          "name": "stdout",
          "text": [
            "20\n",
            "30\n",
            "35\n",
            "40\n",
            "45\n",
            "50\n"
          ]
        }
      ]
    },
    {
      "cell_type": "code",
      "source": [
        "z = []\n",
        "for i in y:\n",
        "  z.append(i*5+10)\n",
        "  z"
      ],
      "metadata": {
        "id": "cQrSLyQhcDzH"
      },
      "execution_count": 53,
      "outputs": []
    },
    {
      "cell_type": "code",
      "source": [
        "num=[23,45,56,78,65,34,23,12,121,2121,56,43,22,11]\n",
        "num"
      ],
      "metadata": {
        "colab": {
          "base_uri": "https://localhost:8080/"
        },
        "id": "zASLuHA4ct9B",
        "outputId": "5f08a6d2-54b4-4fff-aa23-11615573d932"
      },
      "execution_count": 57,
      "outputs": [
        {
          "output_type": "execute_result",
          "data": {
            "text/plain": [
              "[23, 45, 56, 78, 65, 34, 23, 12, 121, 2121, 56, 43, 22, 11]"
            ]
          },
          "metadata": {},
          "execution_count": 57
        }
      ]
    },
    {
      "cell_type": "code",
      "source": [
        "#to separate the even and odd\n",
        "j=[]\n",
        "k=[]\n",
        "for i in num:\n",
        "  if i%2==0:\n",
        "    j.append(i)\n",
        "  else:\n",
        "      k.append(i)\n",
        "\n"
      ],
      "metadata": {
        "id": "Rb207bJDdORv"
      },
      "execution_count": 65,
      "outputs": []
    },
    {
      "cell_type": "markdown",
      "source": [],
      "metadata": {
        "id": "rev6ouCBgcsZ"
      }
    },
    {
      "cell_type": "code",
      "source": [],
      "metadata": {
        "id": "vBpqYl8mgdM5"
      },
      "execution_count": null,
      "outputs": []
    },
    {
      "cell_type": "code",
      "source": [
        "j"
      ],
      "metadata": {
        "colab": {
          "base_uri": "https://localhost:8080/"
        },
        "id": "SzCXx_SxePp-",
        "outputId": "2e4bed86-e4e0-4227-ebf5-7f81260cbdb2"
      },
      "execution_count": 63,
      "outputs": [
        {
          "output_type": "execute_result",
          "data": {
            "text/plain": [
              "[56, 78, 34, 12, 56, 22]"
            ]
          },
          "metadata": {},
          "execution_count": 63
        }
      ]
    },
    {
      "cell_type": "code",
      "source": [
        "k"
      ],
      "metadata": {
        "colab": {
          "base_uri": "https://localhost:8080/"
        },
        "id": "ngRstthNfGoI",
        "outputId": "ec47600c-eff5-43bb-fc2d-f0106e11b106"
      },
      "execution_count": 64,
      "outputs": [
        {
          "output_type": "execute_result",
          "data": {
            "text/plain": [
              "[23, 45, 65, 23, 121, 2121, 43, 11]"
            ]
          },
          "metadata": {},
          "execution_count": 64
        }
      ]
    },
    {
      "cell_type": "code",
      "source": [
        "num=[31,45,33,90,78,67,57,59,51,25,59,9,51]\n",
        "num"
      ],
      "metadata": {
        "colab": {
          "base_uri": "https://localhost:8080/"
        },
        "id": "DIExtzShfHla",
        "outputId": "cc9ca4c9-7fa4-4464-8be8-526189b510de"
      },
      "execution_count": 66,
      "outputs": [
        {
          "output_type": "execute_result",
          "data": {
            "text/plain": [
              "[31, 45, 33, 90, 78, 67, 57, 59, 51, 25, 59, 9, 51]"
            ]
          },
          "metadata": {},
          "execution_count": 66
        }
      ]
    },
    {
      "cell_type": "code",
      "source": [
        "t=str('31')\n",
        "t\n",
        "\n"
      ],
      "metadata": {
        "colab": {
          "base_uri": "https://localhost:8080/",
          "height": 35
        },
        "id": "Bw7A-QGigu9J",
        "outputId": "a3c5d37b-ac23-4911-a755-6660cd7de87f"
      },
      "execution_count": 67,
      "outputs": [
        {
          "output_type": "execute_result",
          "data": {
            "text/plain": [
              "'31'"
            ],
            "application/vnd.google.colaboratory.intrinsic+json": {
              "type": "string"
            }
          },
          "metadata": {},
          "execution_count": 67
        }
      ]
    },
    {
      "cell_type": "code",
      "source": [
        "t.replace('31','51')\n"
      ],
      "metadata": {
        "colab": {
          "base_uri": "https://localhost:8080/",
          "height": 35
        },
        "id": "AFX44AzWiLfO",
        "outputId": "340b0312-f925-4f34-cc7d-3e46c454be9b"
      },
      "execution_count": 71,
      "outputs": [
        {
          "output_type": "execute_result",
          "data": {
            "text/plain": [
              "'51'"
            ],
            "application/vnd.google.colaboratory.intrinsic+json": {
              "type": "string"
            }
          },
          "metadata": {},
          "execution_count": 71
        }
      ]
    },
    {
      "cell_type": "code",
      "source": [
        "t\n",
        "\n"
      ],
      "metadata": {
        "colab": {
          "base_uri": "https://localhost:8080/",
          "height": 35
        },
        "id": "Nl_JYV2diVNN",
        "outputId": "54d2022f-20f6-4f2e-963b-7f286232e8c8"
      },
      "execution_count": 72,
      "outputs": [
        {
          "output_type": "execute_result",
          "data": {
            "text/plain": [
              "'31'"
            ],
            "application/vnd.google.colaboratory.intrinsic+json": {
              "type": "string"
            }
          },
          "metadata": {},
          "execution_count": 72
        }
      ]
    },
    {
      "cell_type": "code",
      "source": [
        "num"
      ],
      "metadata": {
        "colab": {
          "base_uri": "https://localhost:8080/"
        },
        "id": "TiKv_b8Ai84a",
        "outputId": "49843230-44c3-4ffc-fdd9-f644bc80942f"
      },
      "execution_count": 73,
      "outputs": [
        {
          "output_type": "execute_result",
          "data": {
            "text/plain": [
              "[31, 45, 33, 90, 78, 67, 57, 59, 51, 25, 59, 9, 51]"
            ]
          },
          "metadata": {},
          "execution_count": 73
        }
      ]
    },
    {
      "cell_type": "code",
      "source": [
        "h=[]\n",
        "for i in num:\n",
        "  a=str(i)\n",
        "  b=a.replace('25','5')\n",
        "  c=int(b)\n",
        "  h.append(c)"
      ],
      "metadata": {
        "id": "9m4xlDbzjAaC"
      },
      "execution_count": 82,
      "outputs": []
    },
    {
      "cell_type": "code",
      "source": [
        "h"
      ],
      "metadata": {
        "colab": {
          "base_uri": "https://localhost:8080/"
        },
        "id": "3eNnESH3jDUb",
        "outputId": "b99579f3-63ee-4140-d1ec-9fb72e58580c"
      },
      "execution_count": 83,
      "outputs": [
        {
          "output_type": "execute_result",
          "data": {
            "text/plain": [
              "[31, 45, 33, 90, 78, 67, 57, 59, 51, 5, 59, 9, 51]"
            ]
          },
          "metadata": {},
          "execution_count": 83
        }
      ]
    },
    {
      "cell_type": "code",
      "source": [
        "t.replace('31','51')\n",
        "t"
      ],
      "metadata": {
        "colab": {
          "base_uri": "https://localhost:8080/",
          "height": 35
        },
        "id": "zobRGcjYjaXq",
        "outputId": "e1c596ab-749e-4f8f-c658-50191f6688cb"
      },
      "execution_count": 81,
      "outputs": [
        {
          "output_type": "execute_result",
          "data": {
            "text/plain": [
              "'31'"
            ],
            "application/vnd.google.colaboratory.intrinsic+json": {
              "type": "string"
            }
          },
          "metadata": {},
          "execution_count": 81
        }
      ]
    },
    {
      "cell_type": "code",
      "source": [
        "#'SolutiOns'\n",
        "x='SoftwareO'\n",
        "y=''\n",
        "for i in x:\n",
        "  if i.lower() not in ('s','o'):\n",
        "    y+=i\n",
        "\n",
        "\n"
      ],
      "metadata": {
        "id": "3-45lcYjjg_O"
      },
      "execution_count": 93,
      "outputs": []
    },
    {
      "cell_type": "code",
      "source": [
        "y"
      ],
      "metadata": {
        "colab": {
          "base_uri": "https://localhost:8080/",
          "height": 35
        },
        "id": "oOFw8m9akS0s",
        "outputId": "b9412961-4083-40e9-eb57-9599561d8d91"
      },
      "execution_count": 94,
      "outputs": [
        {
          "output_type": "execute_result",
          "data": {
            "text/plain": [
              "'ftware'"
            ],
            "application/vnd.google.colaboratory.intrinsic+json": {
              "type": "string"
            }
          },
          "metadata": {},
          "execution_count": 94
        }
      ]
    },
    {
      "cell_type": "code",
      "source": [],
      "metadata": {
        "id": "WgVJ11d1li81"
      },
      "execution_count": null,
      "outputs": []
    }
  ]
}